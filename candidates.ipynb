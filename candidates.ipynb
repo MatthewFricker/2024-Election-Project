{
 "cells": [
  {
   "cell_type": "code",
   "execution_count": 1,
   "metadata": {},
   "outputs": [],
   "source": [
    "import pandas as pd\n",
    "import numpy as np"
   ]
  },
  {
   "cell_type": "code",
   "execution_count": 2,
   "metadata": {},
   "outputs": [],
   "source": [
    "df = pd.read_csv('dc-candidates--2024-06-13T10-33-03.csv')"
   ]
  },
  {
   "cell_type": "code",
   "execution_count": 3,
   "metadata": {},
   "outputs": [
    {
     "data": {
      "text/html": [
       "<div>\n",
       "<style scoped>\n",
       "    .dataframe tbody tr th:only-of-type {\n",
       "        vertical-align: middle;\n",
       "    }\n",
       "\n",
       "    .dataframe tbody tr th {\n",
       "        vertical-align: top;\n",
       "    }\n",
       "\n",
       "    .dataframe thead th {\n",
       "        text-align: right;\n",
       "    }\n",
       "</style>\n",
       "<table border=\"1\" class=\"dataframe\">\n",
       "  <thead>\n",
       "    <tr style=\"text-align: right;\">\n",
       "      <th></th>\n",
       "      <th>person_id</th>\n",
       "      <th>person_name</th>\n",
       "      <th>election_id</th>\n",
       "      <th>ballot_paper_id</th>\n",
       "      <th>election_date</th>\n",
       "      <th>election_current</th>\n",
       "      <th>party_name</th>\n",
       "      <th>party_id</th>\n",
       "      <th>post_label</th>\n",
       "      <th>cancelled_poll</th>\n",
       "      <th>seats_contested</th>\n",
       "    </tr>\n",
       "  </thead>\n",
       "  <tbody>\n",
       "    <tr>\n",
       "      <th>0</th>\n",
       "      <td>20</td>\n",
       "      <td>Captain Beany</td>\n",
       "      <td>parl.2010-05-06</td>\n",
       "      <td>parl.aberavon.2010-05-06</td>\n",
       "      <td>2010-05-06</td>\n",
       "      <td>f</td>\n",
       "      <td>New Millennium Bean Party</td>\n",
       "      <td>PP13</td>\n",
       "      <td>Aberavon</td>\n",
       "      <td>f</td>\n",
       "      <td>1</td>\n",
       "    </tr>\n",
       "    <tr>\n",
       "      <th>1</th>\n",
       "      <td>3567</td>\n",
       "      <td>Joe Callan</td>\n",
       "      <td>parl.2010-05-06</td>\n",
       "      <td>parl.aberavon.2010-05-06</td>\n",
       "      <td>2010-05-06</td>\n",
       "      <td>f</td>\n",
       "      <td>UK Independence Party (UKIP)</td>\n",
       "      <td>PP85</td>\n",
       "      <td>Aberavon</td>\n",
       "      <td>f</td>\n",
       "      <td>1</td>\n",
       "    </tr>\n",
       "    <tr>\n",
       "      <th>2</th>\n",
       "      <td>3759</td>\n",
       "      <td>Keith Davies</td>\n",
       "      <td>parl.2010-05-06</td>\n",
       "      <td>parl.aberavon.2010-05-06</td>\n",
       "      <td>2010-05-06</td>\n",
       "      <td>f</td>\n",
       "      <td>Liberal Democrats</td>\n",
       "      <td>PP90</td>\n",
       "      <td>Aberavon</td>\n",
       "      <td>f</td>\n",
       "      <td>1</td>\n",
       "    </tr>\n",
       "    <tr>\n",
       "      <th>3</th>\n",
       "      <td>1171</td>\n",
       "      <td>Kevin Edwards</td>\n",
       "      <td>parl.2010-05-06</td>\n",
       "      <td>parl.aberavon.2010-05-06</td>\n",
       "      <td>2010-05-06</td>\n",
       "      <td>f</td>\n",
       "      <td>British National Party</td>\n",
       "      <td>PP106</td>\n",
       "      <td>Aberavon</td>\n",
       "      <td>f</td>\n",
       "      <td>1</td>\n",
       "    </tr>\n",
       "    <tr>\n",
       "      <th>4</th>\n",
       "      <td>2573</td>\n",
       "      <td>Hywel Francis</td>\n",
       "      <td>parl.2010-05-06</td>\n",
       "      <td>parl.aberavon.2010-05-06</td>\n",
       "      <td>2010-05-06</td>\n",
       "      <td>f</td>\n",
       "      <td>Labour Party</td>\n",
       "      <td>PP53</td>\n",
       "      <td>Aberavon</td>\n",
       "      <td>f</td>\n",
       "      <td>1</td>\n",
       "    </tr>\n",
       "  </tbody>\n",
       "</table>\n",
       "</div>"
      ],
      "text/plain": [
       "   person_id    person_name      election_id           ballot_paper_id  \\\n",
       "0         20  Captain Beany  parl.2010-05-06  parl.aberavon.2010-05-06   \n",
       "1       3567     Joe Callan  parl.2010-05-06  parl.aberavon.2010-05-06   \n",
       "2       3759   Keith Davies  parl.2010-05-06  parl.aberavon.2010-05-06   \n",
       "3       1171  Kevin Edwards  parl.2010-05-06  parl.aberavon.2010-05-06   \n",
       "4       2573  Hywel Francis  parl.2010-05-06  parl.aberavon.2010-05-06   \n",
       "\n",
       "  election_date election_current                    party_name party_id  \\\n",
       "0    2010-05-06                f     New Millennium Bean Party     PP13   \n",
       "1    2010-05-06                f  UK Independence Party (UKIP)     PP85   \n",
       "2    2010-05-06                f             Liberal Democrats     PP90   \n",
       "3    2010-05-06                f        British National Party    PP106   \n",
       "4    2010-05-06                f                  Labour Party     PP53   \n",
       "\n",
       "  post_label cancelled_poll  seats_contested  \n",
       "0   Aberavon              f                1  \n",
       "1   Aberavon              f                1  \n",
       "2   Aberavon              f                1  \n",
       "3   Aberavon              f                1  \n",
       "4   Aberavon              f                1  "
      ]
     },
     "execution_count": 3,
     "metadata": {},
     "output_type": "execute_result"
    }
   ],
   "source": [
    "df.head()"
   ]
  },
  {
   "cell_type": "code",
   "execution_count": 33,
   "metadata": {},
   "outputs": [
    {
     "data": {
      "text/plain": [
       "Index(['person_id', 'person_name', 'election_id', 'ballot_paper_id',\n",
       "       'election_date', 'election_current', 'party_name', 'party_id',\n",
       "       'post_label', 'cancelled_poll', 'seats_contested'],\n",
       "      dtype='object')"
      ]
     },
     "execution_count": 33,
     "metadata": {},
     "output_type": "execute_result"
    }
   ],
   "source": [
    "df.columns"
   ]
  },
  {
   "cell_type": "code",
   "execution_count": 4,
   "metadata": {},
   "outputs": [],
   "source": [
    "df = df[df['election_id'] == 'parl.2024-07-04']"
   ]
  },
  {
   "cell_type": "code",
   "execution_count": 5,
   "metadata": {},
   "outputs": [
    {
     "data": {
      "text/plain": [
       "{'Conservative and Unionist Party': 635,\n",
       " 'Liberal Democrats': 630,\n",
       " 'Reform UK': 609,\n",
       " 'Green Party': 585,\n",
       " 'Labour Party': 582,\n",
       " 'Independent': 459,\n",
       " 'Workers Party of Britain': 152,\n",
       " 'Social Democratic Party': 122,\n",
       " 'Scottish National Party (SNP)': 57,\n",
       " 'Labour and Co-operative Party': 49,\n",
       " 'Scottish Green Party': 44,\n",
       " 'Heritage Party': 41,\n",
       " 'Trade Unionist and Socialist Coalition': 40,\n",
       " 'Plaid Cymru - The Party of Wales': 32,\n",
       " 'Yorkshire Party': 27,\n",
       " 'Rejoin EU': 26,\n",
       " 'UK Independence Party (UKIP)': 24,\n",
       " 'Christian Peoples Alliance': 22,\n",
       " 'The Official Monster Raving Loony Party': 22,\n",
       " 'Alba Party': 19,\n",
       " 'SDLP (Social Democratic & Labour Party)': 18,\n",
       " 'Alliance - Alliance Party of Northern Ireland': 18,\n",
       " 'Ulster Unionist Party': 17,\n",
       " 'Party Of Women': 16,\n",
       " 'Scottish Family Party': 16,\n",
       " 'Democratic Unionist Party - D.U.P.': 16,\n",
       " 'Traditional Unionist Voice - TUV': 14,\n",
       " 'Sinn Féin': 14,\n",
       " 'Communist Party of Britain': 14,\n",
       " 'Climate Party': 13,\n",
       " 'English Democrats': 13,\n",
       " 'Socialist Labour Party': 12,\n",
       " 'The Liberal Party': 12,\n",
       " 'Hampshire Independents': 10,\n",
       " 'Aontú': 10,\n",
       " 'Alliance for Democracy and Freedom': 9,\n",
       " 'Workers Revolutionary Party': 5,\n",
       " 'Freedom Alliance': 5,\n",
       " 'Independent Network': 5,\n",
       " \"Women's Equality Party\": 4,\n",
       " 'Scottish Libertarian Party': 4,\n",
       " 'True & Fair Party': 4,\n",
       " 'English Constitution Party': 4,\n",
       " 'Animal Welfare Party': 4,\n",
       " 'British Democratic Party': 4,\n",
       " 'People Before Profit': 3,\n",
       " 'Abolish The Welsh Assembly Party': 3,\n",
       " 'Alliance For Green Socialism': 2,\n",
       " 'Scottish Socialist Party': 2,\n",
       " 'Christian Party \"Proclaiming Christ\\'s Lordship\"': 2,\n",
       " 'Lincolnshire Independents Lincolnshire First': 2,\n",
       " 'British Unionist Party - B.U.P.': 2,\n",
       " 'Socialist Equality Party': 2,\n",
       " 'Communist League Election Campaign': 2,\n",
       " 'One Leicester': 2,\n",
       " 'Sovereignty': 2,\n",
       " 'Volt United Kingdom': 2,\n",
       " 'Libertarian Party': 2,\n",
       " 'Confelicity': 2,\n",
       " 'Shared Ground': 2,\n",
       " 'The Peace Party - Non-violence, Justice, Environment': 2,\n",
       " 'Patriots Alliance - English Democrats and UKIP': 2,\n",
       " 'The Socialist Party of Great Britain': 2,\n",
       " 'Independence for Scotland Party': 2,\n",
       " 'Transform Party': 2,\n",
       " 'Independents for Direct Democracy': 1,\n",
       " 'Stockport Fights Austerity No to Cuts': 1,\n",
       " 'The Common People': 1,\n",
       " 'New Open Non-Political Organised Leadership': 1,\n",
       " 'UK Voice': 1,\n",
       " 'Psychedelic Movement': 1,\n",
       " 'Blue Revolution': 1,\n",
       " 'Swale Independents': 1,\n",
       " 'Social Justice Party': 1,\n",
       " 'The Mitre TW9': 1,\n",
       " 'Count Binface Party': 1,\n",
       " 'Portsmouth Independent Party': 1,\n",
       " 'The Yoruba Party in the UK': 1,\n",
       " 'Independent Oxford Alliance': 1,\n",
       " 'Independent Alliance (Kent)': 1,\n",
       " 'South Devon Alliance': 1,\n",
       " 'Taking The Initiative Party': 1,\n",
       " 'Putting Crewe First, Independent Residents Group.': 1,\n",
       " 'Communist Future': 1,\n",
       " 'The North East Party': 1,\n",
       " 'Ashfield Independents': 1,\n",
       " 'Cross-Community Labour Alternative': 1,\n",
       " 'Fairer Voting Party': 1,\n",
       " 'Save Us Now': 1,\n",
       " 'Speaker seeking re-election': 1,\n",
       " 'Democracy for Chorley': 1,\n",
       " 'Common Good': 1,\n",
       " 'Chesterfield And North Derbyshire Independents (CANDI)': 1,\n",
       " 'Propel': 1,\n",
       " 'Kingston Independent Residents Group': 1,\n",
       " 'Rebooting Democracy': 1,\n",
       " 'Consensus': 1,\n",
       " 'Liverpool Community Independents': 1,\n",
       " 'National Health Action Party': 1,\n",
       " 'Newham Independents Party': 1}"
      ]
     },
     "execution_count": 5,
     "metadata": {},
     "output_type": "execute_result"
    }
   ],
   "source": [
    "dict(df['party_name'].value_counts())"
   ]
  },
  {
   "cell_type": "code",
   "execution_count": 11,
   "metadata": {},
   "outputs": [],
   "source": [
    "candidates_df = pd.DataFrame(index=df['post_label'].unique(), columns=[\"Conservative Candidate\", \"Labour Candidate\", \"Lib Dem Candidate\", \"Reform UK Candidate\", \"Green Candidate\", \"SNP Candidate\", \"Plaid Cymru Candidate\", \"Other Candidates\"])"
   ]
  },
  {
   "cell_type": "code",
   "execution_count": 20,
   "metadata": {},
   "outputs": [],
   "source": [
    "candidates_df[\"Other Candidates\"] = np.empty((650, 0)).tolist() "
   ]
  },
  {
   "cell_type": "code",
   "execution_count": 34,
   "metadata": {},
   "outputs": [],
   "source": [
    "for index, row in df.iterrows():\n",
    "    if row.party_name == \"Conservative and Unionist Party\":\n",
    "        candidates_df.loc[row.post_label, \"Conservative Candidate\"] = row.person_name\n",
    "    elif row.party_name in [\"Labour Party\", 'Labour and Co-operative Party']:\n",
    "        candidates_df.loc[row.post_label, \"Labour Candidate\"] = row.person_name\n",
    "    elif row.party_name == \"Liberal Democrats\":\n",
    "        candidates_df.loc[row.post_label, \"Lib Dem Candidate\"] = row.person_name\n",
    "    elif row.party_name == \"Reform UK\":\n",
    "        candidates_df.loc[row.post_label, \"Reform UK Candidate\"] = row.person_name\n",
    "    elif row.party_name in [\"Green Party\", \"Scottish Green Party\"]:\n",
    "        candidates_df.loc[row.post_label, \"Green Candidate\"] = row.person_name\n",
    "    elif row.party_name == \"Scottish National Party (SNP)\":\n",
    "        candidates_df.loc[row.post_label, \"SNP Candidate\"] = row.person_name\n",
    "    elif row.party_name == \"Plaid Cymru - The Party of Wales\":\n",
    "        candidates_df.loc[row.post_label, \"Plaid Cymru Candidate\"] = row.person_name   \n",
    "    else:\n",
    "        candidates_df.loc[row.post_label, \"Other Candidates\"].append(row.person_name) "
   ]
  },
  {
   "cell_type": "code",
   "execution_count": 36,
   "metadata": {},
   "outputs": [
    {
     "data": {
      "text/plain": [
       "Conservative Candidate                              Oyebola Ajala\n",
       "Labour Candidate                                      Pamela Nash\n",
       "Lib Dem Candidate                                   Hayley Bennie\n",
       "Reform UK Candidate                             Robert McLaughlan\n",
       "Green Candidate                              Gordon Thomas Miller\n",
       "SNP Candidate                                      Marion Fellows\n",
       "Plaid Cymru Candidate                                         NaN\n",
       "Other Candidates          [Gus Ferguson, Ross Hagen, Neil Wilson]\n",
       "Name: Motherwell, Wishaw and Carluke, dtype: object"
      ]
     },
     "execution_count": 36,
     "metadata": {},
     "output_type": "execute_result"
    }
   ],
   "source": [
    "candidates_df.loc[\"Motherwell, Wishaw and Carluke\"]"
   ]
  },
  {
   "cell_type": "code",
   "execution_count": 37,
   "metadata": {},
   "outputs": [],
   "source": [
    "candidates_df.to_csv(\"2024_candidates.csv\")"
   ]
  }
 ],
 "metadata": {
  "kernelspec": {
   "display_name": "base",
   "language": "python",
   "name": "python3"
  },
  "language_info": {
   "codemirror_mode": {
    "name": "ipython",
    "version": 3
   },
   "file_extension": ".py",
   "mimetype": "text/x-python",
   "name": "python",
   "nbconvert_exporter": "python",
   "pygments_lexer": "ipython3",
   "version": "3.11.7"
  }
 },
 "nbformat": 4,
 "nbformat_minor": 2
}
